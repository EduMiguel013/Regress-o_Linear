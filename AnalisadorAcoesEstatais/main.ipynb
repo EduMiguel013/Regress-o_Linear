{
 "cells": [
  {
   "cell_type": "markdown",
   "metadata": {},
   "source": [
    "# Sistema Principal de Análise de Ações Brasileiras\n",
    "Executa análise completa das ações PETR4.SA, BBAS3.SA e ELET3.SA"
   ]
  },
  {
   "cell_type": "code",
   "execution_count": null,
   "metadata": {},
   "outputs": [],
   "source": [
    "#!/usr/bin/env python3\n",
    "# -*- coding: utf-8 -*-\n",
    "\n",
    "from analisador_acoes import AnalisadorAcoesBrasileiras"
   ]
  },
  {
   "cell_type": "code",
   "execution_count": null,
   "metadata": {},
   "outputs": [],
   "source": [
    "def main():\n",
    "    \"\"\"\n",
    "    Função principal que executa toda a análise das ações brasileiras\n",
    "    \"\"\"\n",
    "    print(\"=\" * 60)\n",
    "    print(\"SISTEMA DE ANÁLISE DE AÇÕES BRASILEIRAS\")\n",
    "    print(\"=\" * 60)\n",
    "    \n",
    "    # Lista das ações a serem analisadas\n",
    "    acoes = ['PETR4.SA', 'BBAS3.SA', 'ELET3.SA']\n",
    "    \n",
    "    # Período de análise (1 ano de dados históricos)\n",
    "    periodo = '1y'\n",
    "    \n",
    "    try:\n",
    "        # Inicializar o analisador\n",
    "        analisador = AnalisadorAcoesBrasileiras()\n",
    "        \n",
    "        # Executar análise completa\n",
    "        resultados = analisador.analisar_acoes(acoes, periodo)\n",
    "        \n",
    "        # Exibir resultados formatados\n",
    "        analisador.exibir_resultados(resultados)\n",
    "        \n",
    "        # Gerar gráficos\n",
    "        analisador.gerar_graficos(resultados)\n",
    "        \n",
    "        print(\"\\n\" + \"=\" * 60)\n",
    "        print(\"ANÁLISE CONCLUÍDA COM SUCESSO!\")\n",
    "        print(\"Gráficos salvos como arquivos PNG na pasta atual.\")\n",
    "        print(\"=\" * 60)\n",
    "        \n",
    "    except Exception as erro:\n",
    "        print(f\"\\nERRO na execução da análise: {erro}\")\n",
    "        print(\"Verifique sua conexão com a internet e tente novamente.\")"
   ]
  },
  {
   "cell_type": "code",
   "execution_count": null,
   "metadata": {},
   "outputs": [],
   "source": [
    "if __name__ == \"__main__\":\n",
    "    main()"
   ]
  }
 ],
 "metadata": {
  "kernelspec": {
   "display_name": "Python 3",
   "language": "python",
   "name": "python3"
  },
  "language_info": {
   "codemirror_mode": {
    "name": "ipython",
    "version": 3
   },
   "file_extension": ".py",
   "name": "python",
   "nbconvert_exporter": "python",
   "pygments_lexer": "ipython3",
   "version": "3.11.0"
  }
 },
 "nbformat": 4,
 "nbformat_minor": 4
}